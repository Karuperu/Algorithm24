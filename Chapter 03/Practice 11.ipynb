{
 "cells": [
  {
   "cell_type": "markdown",
   "metadata": {},
   "source": [
    "---\n",
    "# 연습문제 11번\n",
    "#### 입력으로 주어진 문자역에서 A로 시작하고 B로 끝나는 부분 문자열의 개수를 구하는 문제가 주어졌다.\n",
    "#### 예를들어, 문자열 ADBAAEDBA에는 4개의 부분 문자열이 있다."
   ]
  },
  {
   "cell_type": "markdown",
   "metadata": {},
   "source": [
    "---\n",
    "## (1) 이 문제에 대한 억지 기법 알고리즘을 설계하고, 시간 복잡도를 계산하라."
   ]
  },
  {
   "cell_type": "code",
   "execution_count": 4,
   "metadata": {},
   "outputs": [
    {
     "name": "stdout",
     "output_type": "stream",
     "text": [
      "서로 다른 부분 문자열의 개수:  4\n"
     ]
    }
   ],
   "source": [
    "def count_substr(str, a, b):\n",
    "    # 부분 문자열의 발생 횟수를 추적하는 count 변수 초기화\n",
    "    count = 0\n",
    "    # 입력 문자열의 길이를 가져오기\n",
    "    n = len(str)\n",
    "    # 문자열의 문자들을 반복하여 확인\n",
    "    for i in range(n - 1):\n",
    "        # 현재 문자가 'a'와 같은지 확인\n",
    "        if str[i] == a:\n",
    "            # 'a'를 발견하면 나머지 문자를 반복하여 확인\n",
    "            for j in range(i + 1, n):\n",
    "                # 현재 문자가 'b'와 같은지 확인\n",
    "                if str[j] == b:\n",
    "                    # 'a'와 'b'가 모두 발견되면 count를 증가\n",
    "                    count += 1\n",
    "    # 부분 문자열의 발생 횟수 반환\n",
    "    return count\n",
    "\n",
    "# 입력 문자열\n",
    "input_str = \"ADBAAEDBA\"\n",
    "# 'A' 다음에 'B'가 오는 부분 문자열의 발생 횟수 계산\n",
    "result = count_substr(input_str, 'A', 'B')\n",
    "# 결과 출력\n",
    "print(\"서로 다른 부분 문자열의 개수: \", result)"
   ]
  },
  {
   "cell_type": "markdown",
   "metadata": {},
   "source": [
    "#### 위 코드는 억지기법 알고리즘이며 시간 복잡도는 O(n^2)이다."
   ]
  },
  {
   "cell_type": "markdown",
   "metadata": {},
   "source": [
    "---\n",
    "## (2) 이 문제에 대한 더 효율적인 알고리즘을 찾아보라.\n",
    "#### 문자열에서 각 문자가 몇 번 등장하는지 먼저 계산하고 다음 두 문자의 등장 횟수를 곱하여 결과를 반환하는 알고리즘의 효율이 더 좋다.\n",
    "---"
   ]
  }
 ],
 "metadata": {
  "kernelspec": {
   "display_name": "Python 3",
   "language": "python",
   "name": "python3"
  },
  "language_info": {
   "codemirror_mode": {
    "name": "ipython",
    "version": 3
   },
   "file_extension": ".py",
   "mimetype": "text/x-python",
   "name": "python",
   "nbconvert_exporter": "python",
   "pygments_lexer": "ipython3",
   "version": "3.12.2"
  }
 },
 "nbformat": 4,
 "nbformat_minor": 2
}
