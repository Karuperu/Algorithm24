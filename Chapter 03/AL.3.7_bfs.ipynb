{
 "cells": [
  {
   "cell_type": "markdown",
   "metadata": {},
   "source": [
    "---\n",
    "# 문제정의\n",
    "#### "
   ]
  },
  {
   "cell_type": "markdown",
   "metadata": {},
   "source": [
    "---\n",
    "# 알고리즘 설명\n",
    "#### "
   ]
  },
  {
   "cell_type": "markdown",
   "metadata": {},
   "source": [
    "---\n",
    "# 손으로 푼 예제\n"
   ]
  },
  {
   "cell_type": "markdown",
   "metadata": {},
   "source": [
    "---\n",
    "# 코드 개요\n",
    "#### "
   ]
  },
  {
   "cell_type": "markdown",
   "metadata": {},
   "source": [
    "---\n",
    "# 알고리즘 코드"
   ]
  },
  {
   "cell_type": "code",
   "execution_count": 4,
   "metadata": {},
   "outputs": [],
   "source": [
    "import queue\n",
    "def bfs(graph, start):\n",
    "    visited = {start}\n",
    "    que = queue.Queue()\n",
    "    que.put(start)\n",
    "    while not que.empty():\n",
    "        v = que.get()\n",
    "        print(v, end = ' ')\n",
    "        nbr = graph[v] - visited\n",
    "        for u in nbr:\n",
    "            visited.add(u)\n",
    "            que.put(u)"
   ]
  },
  {
   "cell_type": "markdown",
   "metadata": {},
   "source": [
    "---\n",
    "# 테스트 코드"
   ]
  },
  {
   "cell_type": "code",
   "execution_count": 5,
   "metadata": {},
   "outputs": [
    {
     "name": "stdout",
     "output_type": "stream",
     "text": [
      "BFS : A C B E D H G F \n"
     ]
    }
   ],
   "source": [
    "mygraph = {\n",
    "    \"A\" : {\"B\",\"C\"},\n",
    "    \"B\" : {\"A\",\"D\"},\n",
    "    \"C\" : {\"A\",\"D\",\"E\"},\n",
    "    \"D\" : {\"B\",\"C\",\"F\"},\n",
    "    \"E\" : {\"C\",\"G\",\"H\"},\n",
    "    \"F\" : {\"D\"},\n",
    "    \"G\" : {\"E\",\"H\"},\n",
    "    \"H\" : {\"E\",\"G\"}\n",
    "}\n",
    "print(\"BFS : \",end='')\n",
    "bfs( mygraph, \"A\" )\n",
    "print()"
   ]
  },
  {
   "cell_type": "markdown",
   "metadata": {},
   "source": [
    "---\n",
    "# 수행결과\n",
    "![3 7 result](https://github.com/Karuperu/Algorithm24/assets/162394168/2135b44d-199e-4590-ac38-2264420d422e)"
   ]
  },
  {
   "cell_type": "markdown",
   "metadata": {},
   "source": [
    "---\n",
    "# 복잡도 분석\n",
    "#### "
   ]
  },
  {
   "cell_type": "markdown",
   "metadata": {},
   "source": [
    "---\n",
    "# 조별 협력 내용\n",
    "#### "
   ]
  }
 ],
 "metadata": {
  "kernelspec": {
   "display_name": "Python 3",
   "language": "python",
   "name": "python3"
  },
  "language_info": {
   "codemirror_mode": {
    "name": "ipython",
    "version": 3
   },
   "file_extension": ".py",
   "mimetype": "text/x-python",
   "name": "python",
   "nbconvert_exporter": "python",
   "pygments_lexer": "ipython3",
   "version": "3.12.2"
  }
 },
 "nbformat": 4,
 "nbformat_minor": 2
}
