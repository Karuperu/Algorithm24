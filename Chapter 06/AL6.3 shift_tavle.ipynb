{
 "cells": [
  {
   "cell_type": "markdown",
   "metadata": {},
   "source": [
    "---\n",
    "# 문제정의\n",
    "#### 호스풀 알고리즘의 시프트 테이블을 만들어라"
   ]
  },
  {
   "cell_type": "markdown",
   "metadata": {},
   "source": [
    "---\n",
    "# 알고리즘 설명\n",
    "#### 호스풀 알고리즘에서 입력값을 시프트 시키기 위한 알고리즘이다."
   ]
  },
  {
   "cell_type": "markdown",
   "metadata": {},
   "source": [
    "---\n",
    "# 손으로 푼 예제\n"
   ]
  },
  {
   "cell_type": "markdown",
   "metadata": {},
   "source": [
    "---\n",
    "# 코드 개요\n"
   ]
  },
  {
   "cell_type": "markdown",
   "metadata": {},
   "source": [
    "---\n",
    "# 알고리즘 코드\n",
    "####"
   ]
  },
  {
   "cell_type": "code",
   "execution_count": null,
   "metadata": {},
   "outputs": [],
   "source": [
    "NO_OF_CHARS=128\n",
    "def shift_table(pat):\n",
    "    m = len(pat)\n",
    "    tbl = [m]*NO_OF_CHARS\n",
    "    for i in range(m-1):\n",
    "        tbl[ord(pat[i])] = m-1-i\n",
    "    return tbl\n",
    "def search_horspool(T, P):\n",
    "    m = len(P)\n",
    "    n = len(T)\n",
    "    t = shift_table(P)\n",
    "    i = m-1\n",
    "    while(i <= n-1):\n",
    "        k = 0\n",
    "        while k <= m-1 and P[m-1-k]==T[i-k]:\n",
    "            k += 1\n",
    "        if k == m:\n",
    "            return i-m+1\n",
    "        else:\n",
    "            tc = t[ord(T[i-k])]\n",
    "            i +=(tc-k)\n",
    "    return -1"
   ]
  },
  {
   "cell_type": "markdown",
   "metadata": {},
   "source": [
    "---\n",
    "# 테스트 코드\n",
    "####"
   ]
  },
  {
   "cell_type": "code",
   "execution_count": null,
   "metadata": {},
   "outputs": [],
   "source": []
  },
  {
   "cell_type": "markdown",
   "metadata": {},
   "source": [
    "---\n",
    "# 수행결과"
   ]
  },
  {
   "cell_type": "markdown",
   "metadata": {},
   "source": [
    "---\n",
    "# 복잡도 분석\n",
    "#### "
   ]
  },
  {
   "cell_type": "markdown",
   "metadata": {},
   "source": [
    "---\n",
    "# 조별 협력 내용\n",
    "\n",
    "#### "
   ]
  }
 ],
 "metadata": {
  "language_info": {
   "name": "python"
  }
 },
 "nbformat": 4,
 "nbformat_minor": 2
}
