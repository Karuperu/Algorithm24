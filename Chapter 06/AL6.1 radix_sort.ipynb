{
 "cells": [
  {
   "cell_type": "markdown",
   "metadata": {},
   "source": [
    "---\n",
    "# 문제정의\n",
    "#### 기수정렬 알고리즘을 이용하여 정수리스트를 졍렬하라."
   ]
  },
  {
   "cell_type": "markdown",
   "metadata": {},
   "source": [
    "---\n",
    "# 알고리즘 설명\n",
    "#### 기수정렬 알고리즘을 이용해서 중간과정을 포함된 정렬 결과값을 출력하라 "
   ]
  },
  {
   "cell_type": "markdown",
   "metadata": {},
   "source": [
    "---\n",
    "# 손으로 푼 예제\n",
    "![6.1 hand](../img/Chapter%2006/6.1%20hand.jpg)"
   ]
  },
  {
   "cell_type": "markdown",
   "metadata": {},
   "source": [
    "---\n",
    "# 코드 개요\n",
    "#### 알고리즘코드에 주석으로 표시했습니다."
   ]
  },
  {
   "cell_type": "markdown",
   "metadata": {},
   "source": [
    "---\n",
    "# 알고리즘 코드"
   ]
  },
  {
   "cell_type": "code",
   "execution_count": null,
   "metadata": {},
   "outputs": [],
   "source": [
    "from queue import Queue #파이썬 QUEUE 모듈 사용\n",
    "def radix_sort(A):\n",
    "    queues = [] #큐의 리스트\n",
    "    for i in range(BUCKETS):\n",
    "        queues.append(Queue()) #BUCKETS개의 큐 사용 \n",
    "    n = len(A)\n",
    "    factor = 1 #1의 자리부터 시작\n",
    "    for d in range(DIGITS): #모든 자리에 대해 \n",
    "        for i in range(n): #자릿수에 따라 큐에 삽입\n",
    "            index = (A[i] // factor) % BUCKETS  #숫자를 삽입\n",
    "            queues[index].put(A[i])\n",
    "        j = 0\n",
    "        for b in range(BUCKETS): #버킷에서 꺼내어 원래의 리스트로\n",
    "            while not queues[b].empty(): #B번째 큐가 공백이 아닌 동안\n",
    "                A[j] = queues[b].get() #원소를 꺼내 리스트의 저장\n",
    "                j += 1\n",
    "        factor *= BUCKETS #그다음 자릿수로 간다\n",
    "        print(\"step\", d+1, A) #중간 과정 출력용 문장 "
   ]
  },
  {
   "cell_type": "markdown",
   "metadata": {},
   "source": [
    "---\n",
    "# 테스트 코드"
   ]
  },
  {
   "cell_type": "code",
   "execution_count": null,
   "metadata": {},
   "outputs": [],
   "source": [
    "import random\n",
    "BUCKETS = 10\n",
    "DIGITS = 4\n",
    "data = []\n",
    "for i in range(10):\n",
    "    data.append(random.randint(1,9999))\n",
    "radix_sort(data)\n",
    "print(\"Radix: \",data)"
   ]
  },
  {
   "cell_type": "markdown",
   "metadata": {},
   "source": [
    "---\n",
    "# 수행결과\n",
    "![6.1 result](../img/Chapter%2006/6.1%20result.png)"
   ]
  },
  {
   "cell_type": "markdown",
   "metadata": {},
   "source": [
    "---\n",
    "# 복잡도 분석\n",
    "#### d는 n에 비하여 아주 작은 수가 되므로 O(n)이다."
   ]
  },
  {
   "cell_type": "markdown",
   "metadata": {},
   "source": [
    "---\n",
    "# 조별 협력 내용\n",
    "#### 조원과 토의를 하며 문제를 풀었음"
   ]
  }
 ],
 "metadata": {
  "kernelspec": {
   "display_name": "Python 3",
   "language": "python",
   "name": "python3"
  },
  "language_info": {
   "name": "python",
   "version": "3.12.2"
  }
 },
 "nbformat": 4,
 "nbformat_minor": 2
}
