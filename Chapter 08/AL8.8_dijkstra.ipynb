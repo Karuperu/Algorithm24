{
 "cells": [
  {
   "cell_type": "markdown",
   "metadata": {},
   "source": [
    "---\n",
    "# 문제정의\n",
    "#### 한 정점에서 다른 모든 정점까지의 최단경로를 구하라"
   ]
  },
  {
   "cell_type": "markdown",
   "metadata": {},
   "source": [
    "---\n",
    "# 알고리즘 설명\n",
    "#### 시작정점을 기준으로 다른정점으로의 최단경로를 구하기 위한 알고리즘이다"
   ]
  },
  {
   "cell_type": "markdown",
   "metadata": {},
   "source": [
    "---\n",
    "# 손으로 푼 예제\n",
    "![AL 7.02_fib_dp_tab](../img/Chapter%2007/7.2%20hand.jpg)"
   ]
  },
  {
   "cell_type": "markdown",
   "metadata": {},
   "source": [
    "---\n",
    "# 코드 개요\n",
    "#### \n"
   ]
  },
  {
   "cell_type": "markdown",
   "metadata": {},
   "source": [
    "---\n",
    "# 알고리즘 코드"
   ]
  },
  {
   "cell_type": "code",
   "execution_count": null,
   "metadata": {},
   "outputs": [],
   "source": [
    "INF = 9999\n",
    "def getMinVertex(dist, selected):\n",
    "    minv= -1\n",
    "    mindist=INF\n",
    "    for v in range(len(dist)):\n",
    "        if not selected[v] and dist[v]<mindist:\n",
    "            mindist = dist[v]\n",
    "            minv=v\n",
    "    return minv\n",
    "def shortest_path_dijkstra(vtx, adj, start):\n",
    "    vsize=len(vtx)\n",
    "    dist=list(adj[start])\n",
    "    dist[start]=0\n",
    "    path = [start]*vsize\n",
    "    found=[False]*vsize\n",
    "    found[start]=True\n",
    "    for i in range(vsize):\n",
    "        print(\"Step%2d: \"%(i+1), dist)\n",
    "        u= getMinVertex(dist, found)\n",
    "        found[u]=True\n",
    "        for w in range(vsize):\n",
    "            if not found[w]:\n",
    "                if dist[u]+adj[u][w]<dist[w]:\n",
    "                    dist[w]=dist[u]+adj[u][w]\n",
    "                    path[w]=u\n",
    "    return path"
   ]
  },
  {
   "cell_type": "markdown",
   "metadata": {},
   "source": [
    "---\n",
    "# 테스트 코드"
   ]
  },
  {
   "cell_type": "code",
   "execution_count": null,
   "metadata": {},
   "outputs": [],
   "source": [
    "vertex = ['A', 'B', 'C', 'D', 'E', 'F', 'G']\n",
    "weight = [\n",
    "    [0, 7, INF, INF, 3, 10, INF],\n",
    "    [7, 0, 4, 10, 2, 6, INF],\n",
    "    [INF, 4, 0, 2, INF, INF, INF],\n",
    "    [INF, 10, 2, 0, 11, 9, 4],\n",
    "    [3, 2, INF, 11, 0, 13, 5],\n",
    "    [10, 6, INF, 9, 13, 0, INF],\n",
    "    [INF, INF, INF, 4, 5, INF, 0]\n",
    "]\n",
    "print(\"Shortest Path By Dijkstra Algorithm\")\n",
    "start=0\n",
    "path = shortest_path_dijkstra(vertex, weight, start)\n",
    "for end in range(len(vertex)):\n",
    "    if end != start:\n",
    "        print(\"[최단경로: %s->%s]%s\"%(vertex[start], vertex[end], vertex[end]), end='')\n",
    "        while(path[end]!= start):\n",
    "            print(\"<-%s\"%vertex[path[end]], end='')\n",
    "            end=path[end]\n",
    "        print(\"<-%s\"%vertex[path[end]])"
   ]
  },
  {
   "cell_type": "markdown",
   "metadata": {},
   "source": [
    "---\n",
    "# 수행결과\n",
    "![AL 7.02_fib_dp_tab](../img/Chapter%2007/7.2%20result.png)"
   ]
  },
  {
   "cell_type": "markdown",
   "metadata": {},
   "source": [
    "---\n",
    "# 복잡도 분석\n",
    "#### "
   ]
  },
  {
   "cell_type": "markdown",
   "metadata": {},
   "source": [
    "---\n",
    "# 조별 협력 내용\n",
    "#### 조원과 토의를 하며 문제를 풀었음"
   ]
  }
 ],
 "metadata": {
  "language_info": {
   "name": "python"
  }
 },
 "nbformat": 4,
 "nbformat_minor": 2
}
