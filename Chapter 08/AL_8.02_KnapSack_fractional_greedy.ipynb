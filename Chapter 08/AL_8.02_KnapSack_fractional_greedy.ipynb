{
 "cells": [
  {
   "cell_type": "markdown",
   "metadata": {},
   "source": [
    "---\n",
    "# 문제정의\n",
    "### 무게당 가격이 비싼 물건부터 순서대로 배낭의 남은 용량을 넘지 않는 최대한으로 채우고 문제"
   ]
  },
  {
   "cell_type": "markdown",
   "metadata": {},
   "source": [
    "---\n",
    "# 알고리즘 설명\n",
    "### 물건들의 리스트가 입력되면 먼저 무게당 가치의 내림차순으로 정렬하고, 무게당 가치가 가장 높은 것부터 탐욕적으로 배낭에 넣는 알고리즘"
   ]
  },
  {
   "cell_type": "markdown",
   "metadata": {},
   "source": [
    "---\n",
    "# 손으로 푼 예제"
   ]
  },
  {
   "cell_type": "markdown",
   "metadata": {},
   "source": [
    "---\n",
    "# 코드 개요\n",
    "### W : 배낭의 용량 obj : 물건들의 리스트\n",
    "### obj를 내림차순으로 정렬, 이때 정렬 기준은 람다 함수를 이용해 제공\n",
    "### 단위 무게당 가격이 가장 높은 물건부터 반복적으로 처리, 용량이 다 차면 반복을 멈춤"
   ]
  },
  {
   "cell_type": "markdown",
   "metadata": {},
   "source": [
    "---\n",
    "# 알고리즘 코드"
   ]
  },
  {
   "cell_type": "code",
   "execution_count": 4,
   "metadata": {},
   "outputs": [],
   "source": [
    "def knapSack_fractional_greedy(obj,W):\n",
    "    obj.sort(key=lambda o: o[2]/o[1], reverse=True)\n",
    "    \n",
    "    totalValue = 0\n",
    "    for o in obj :\n",
    "        if W <= 0 : break\n",
    "        if W - o[1] >= 0:\n",
    "            W -= o[1]\n",
    "            totalValue += o[2]\n",
    "        else:\n",
    "            fraction = W/o[1]\n",
    "            totalValue += o[2] * fraction\n",
    "            W = int(W - (o[1] * fraction))\n",
    "    return totalValue"
   ]
  },
  {
   "cell_type": "markdown",
   "metadata": {},
   "source": [
    "---\n",
    "# 테스트 코드"
   ]
  },
  {
   "cell_type": "code",
   "execution_count": 5,
   "metadata": {},
   "outputs": [
    {
     "name": "stdout",
     "output_type": "stream",
     "text": [
      "W=18  [('A', 10, 80), ('8', 12, 120), ('C', 8, 60)]\n",
      "부분적인배낭(18:  168.0\n",
      "\n",
      "W = 50 [('A', 10, 60), ('B', 40, 40), ('C', 20, 100), ('D', 30, 120)]\n",
      "부분적인배낭(50:  240.0\n"
     ]
    }
   ],
   "source": [
    "obj = [(\"A\", 10, 80),(\"8\", 12, 120), (\"C\",8,60)]\n",
    "print(\"W=18 \", obj)\n",
    "print(\"부분적인배낭(18: \",knapSack_fractional_greedy(obj,18),end='\\n\\n')\n",
    "\n",
    "obj=[(\"A\",10,60),(\"B\",40,40),(\"C\",20,100),(\"D\",30,120)]\n",
    "print(\"W = 50\",obj)\n",
    "print(\"부분적인배낭(50: \", knapSack_fractional_greedy(obj, 50))"
   ]
  },
  {
   "cell_type": "markdown",
   "metadata": {},
   "source": [
    "---\n",
    "# 수행결과\n",
    "![image.png](../img/Chapter%2008/8.2%20result.png)"
   ]
  },
  {
   "cell_type": "markdown",
   "metadata": {},
   "source": [
    "---\n",
    "# 복잡도 분석\n",
    "### 시간복잡도: O(nlog2n)"
   ]
  },
  {
   "cell_type": "markdown",
   "metadata": {},
   "source": [
    "---\n",
    "# 조별 협력 내용\n",
    "### 조원과 함게 협력하여 문제를 풀어나감"
   ]
  },
  {
   "cell_type": "markdown",
   "metadata": {},
   "source": []
  }
 ],
 "metadata": {
  "kernelspec": {
   "display_name": "Python 3",
   "language": "python",
   "name": "python3"
  },
  "language_info": {
   "codemirror_mode": {
    "name": "ipython",
    "version": 3
   },
   "file_extension": ".py",
   "mimetype": "text/x-python",
   "name": "python",
   "nbconvert_exporter": "python",
   "pygments_lexer": "ipython3",
   "version": "3.11.2"
  }
 },
 "nbformat": 4,
 "nbformat_minor": 2
}
